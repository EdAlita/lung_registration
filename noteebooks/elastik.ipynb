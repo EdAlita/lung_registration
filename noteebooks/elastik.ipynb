{
 "cells": [
  {
   "cell_type": "markdown",
   "metadata": {},
   "source": [
    "### Adding path to import and importing stuff"
   ]
  },
  {
   "cell_type": "code",
   "execution_count": 1,
   "metadata": {},
   "outputs": [],
   "source": [
    "import sys\n",
    "from pathlib import Path\n",
    "sys.path.append('../utils/')"
   ]
  },
  {
   "cell_type": "code",
   "execution_count": 33,
   "metadata": {},
   "outputs": [],
   "source": [
    "from dataset import parse_raw_images\n",
    "from metrics import target_registration_error\n",
    "import pandas as pd"
   ]
  },
  {
   "cell_type": "markdown",
   "metadata": {},
   "source": [
    "### Reading the data set and creating data structure"
   ]
  },
  {
   "cell_type": "code",
   "execution_count": 7,
   "metadata": {},
   "outputs": [
    {
     "data": {
      "text/html": [
       "<div>\n",
       "<style scoped>\n",
       "    .dataframe tbody tr th:only-of-type {\n",
       "        vertical-align: middle;\n",
       "    }\n",
       "\n",
       "    .dataframe tbody tr th {\n",
       "        vertical-align: top;\n",
       "    }\n",
       "\n",
       "    .dataframe thead th {\n",
       "        text-align: right;\n",
       "    }\n",
       "</style>\n",
       "<table border=\"1\" class=\"dataframe\">\n",
       "  <thead>\n",
       "    <tr style=\"text-align: right;\">\n",
       "      <th></th>\n",
       "      <th>i_img_path</th>\n",
       "      <th>e_img_path</th>\n",
       "      <th>i_landmark_pts</th>\n",
       "      <th>e_landmark_pts</th>\n",
       "      <th>size_x</th>\n",
       "      <th>size_y</th>\n",
       "      <th>size_z</th>\n",
       "      <th>space_x</th>\n",
       "      <th>space_y</th>\n",
       "      <th>space_z</th>\n",
       "      <th>case</th>\n",
       "      <th>disp_mean</th>\n",
       "      <th>disp_std</th>\n",
       "    </tr>\n",
       "  </thead>\n",
       "  <tbody>\n",
       "    <tr>\n",
       "      <th>0</th>\n",
       "      <td>../result_data/copd1/copd1_iBHCT.nii.gz</td>\n",
       "      <td>../result_data/copd1/copd1_eBHCT.nii.gz</td>\n",
       "      <td>../result_data/copd1/copd1_300_iBH_xyz_r1.csv</td>\n",
       "      <td>../result_data/copd1/copd1_300_eBH_xyz_r1.csv</td>\n",
       "      <td>512</td>\n",
       "      <td>512</td>\n",
       "      <td>121</td>\n",
       "      <td>0.625</td>\n",
       "      <td>0.625</td>\n",
       "      <td>2.5</td>\n",
       "      <td>copd1</td>\n",
       "      <td>25.90</td>\n",
       "      <td>11.57</td>\n",
       "    </tr>\n",
       "    <tr>\n",
       "      <th>1</th>\n",
       "      <td>../result_data/copd2/copd2_iBHCT.nii.gz</td>\n",
       "      <td>../result_data/copd2/copd2_eBHCT.nii.gz</td>\n",
       "      <td>../result_data/copd2/copd2_300_iBH_xyz_r1.csv</td>\n",
       "      <td>../result_data/copd2/copd2_300_eBH_xyz_r1.csv</td>\n",
       "      <td>512</td>\n",
       "      <td>512</td>\n",
       "      <td>102</td>\n",
       "      <td>0.645</td>\n",
       "      <td>0.645</td>\n",
       "      <td>2.5</td>\n",
       "      <td>copd2</td>\n",
       "      <td>21.77</td>\n",
       "      <td>6.46</td>\n",
       "    </tr>\n",
       "    <tr>\n",
       "      <th>2</th>\n",
       "      <td>../result_data/copd3/copd3_iBHCT.nii.gz</td>\n",
       "      <td>../result_data/copd3/copd3_eBHCT.nii.gz</td>\n",
       "      <td>../result_data/copd3/copd3_300_iBH_xyz_r1.csv</td>\n",
       "      <td>../result_data/copd3/copd3_300_eBH_xyz_r1.csv</td>\n",
       "      <td>512</td>\n",
       "      <td>512</td>\n",
       "      <td>126</td>\n",
       "      <td>0.652</td>\n",
       "      <td>0.652</td>\n",
       "      <td>2.5</td>\n",
       "      <td>copd3</td>\n",
       "      <td>12.29</td>\n",
       "      <td>6.39</td>\n",
       "    </tr>\n",
       "    <tr>\n",
       "      <th>3</th>\n",
       "      <td>../result_data/copd4/copd4_iBHCT.nii.gz</td>\n",
       "      <td>../result_data/copd4/copd4_eBHCT.nii.gz</td>\n",
       "      <td>../result_data/copd4/copd4_300_iBH_xyz_r1.csv</td>\n",
       "      <td>../result_data/copd4/copd4_300_eBH_xyz_r1.csv</td>\n",
       "      <td>512</td>\n",
       "      <td>512</td>\n",
       "      <td>126</td>\n",
       "      <td>0.590</td>\n",
       "      <td>0.590</td>\n",
       "      <td>2.5</td>\n",
       "      <td>copd4</td>\n",
       "      <td>30.90</td>\n",
       "      <td>13.49</td>\n",
       "    </tr>\n",
       "  </tbody>\n",
       "</table>\n",
       "</div>"
      ],
      "text/plain": [
       "                                i_img_path  \\\n",
       "0  ../result_data/copd1/copd1_iBHCT.nii.gz   \n",
       "1  ../result_data/copd2/copd2_iBHCT.nii.gz   \n",
       "2  ../result_data/copd3/copd3_iBHCT.nii.gz   \n",
       "3  ../result_data/copd4/copd4_iBHCT.nii.gz   \n",
       "\n",
       "                                e_img_path  \\\n",
       "0  ../result_data/copd1/copd1_eBHCT.nii.gz   \n",
       "1  ../result_data/copd2/copd2_eBHCT.nii.gz   \n",
       "2  ../result_data/copd3/copd3_eBHCT.nii.gz   \n",
       "3  ../result_data/copd4/copd4_eBHCT.nii.gz   \n",
       "\n",
       "                                  i_landmark_pts  \\\n",
       "0  ../result_data/copd1/copd1_300_iBH_xyz_r1.csv   \n",
       "1  ../result_data/copd2/copd2_300_iBH_xyz_r1.csv   \n",
       "2  ../result_data/copd3/copd3_300_iBH_xyz_r1.csv   \n",
       "3  ../result_data/copd4/copd4_300_iBH_xyz_r1.csv   \n",
       "\n",
       "                                  e_landmark_pts  size_x  size_y  size_z  \\\n",
       "0  ../result_data/copd1/copd1_300_eBH_xyz_r1.csv     512     512     121   \n",
       "1  ../result_data/copd2/copd2_300_eBH_xyz_r1.csv     512     512     102   \n",
       "2  ../result_data/copd3/copd3_300_eBH_xyz_r1.csv     512     512     126   \n",
       "3  ../result_data/copd4/copd4_300_eBH_xyz_r1.csv     512     512     126   \n",
       "\n",
       "   space_x  space_y  space_z   case  disp_mean  disp_std  \n",
       "0    0.625    0.625      2.5  copd1      25.90     11.57  \n",
       "1    0.645    0.645      2.5  copd2      21.77      6.46  \n",
       "2    0.652    0.652      2.5  copd3      12.29      6.39  \n",
       "3    0.590    0.590      2.5  copd4      30.90     13.49  "
      ]
     },
     "execution_count": 7,
     "metadata": {},
     "output_type": "execute_result"
    }
   ],
   "source": [
    "data = parse_raw_images(data_path=Path('../data/'), out_path=Path('../result_data/'))\n",
    "data"
   ]
  },
  {
   "cell_type": "code",
   "execution_count": 35,
   "metadata": {},
   "outputs": [
    {
     "name": "stdout",
     "output_type": "stream",
     "text": [
      "---------- copd1 ----------\n",
      "Provided displacement: 25.9 | 11.57\n",
      "Computed displacement: 26.33 | 11.42\n",
      "---------- copd2 ----------\n",
      "Provided displacement: 21.77 | 6.46\n",
      "Computed displacement: 21.79 | 6.46\n",
      "---------- copd3 ----------\n",
      "Provided displacement: 12.29 | 6.39\n",
      "Computed displacement: 12.64 | 6.38\n",
      "---------- copd4 ----------\n",
      "Provided displacement: 30.9 | 13.49\n",
      "Computed displacement: 29.58 | 12.92\n"
     ]
    }
   ],
   "source": [
    "for i in range(len(data)):\n",
    "    sample = data.iloc[i]\n",
    "    vox_size = [sample['space_x'],sample['space_y'],sample['space_z']]\n",
    "    i_landmark_pts = pd.read_csv(sample['i_landmark_pts'], header=None, index_col=None).values\n",
    "    e_landmark_pts = pd.read_csv(sample['e_landmark_pts'], header=None, index_col=None).values\n",
    "    m, s = target_registration_error(i_landmark_pts, e_landmark_pts, vox_size)\n",
    "    print(f'{\"-\"*10} {sample[\"case\"]} {\"-\"*10}')\n",
    "    print(f'Provided displacement: {sample[\"disp_mean\"]} | {sample[\"disp_std\"]}')\n",
    "    print(f'Computed displacement: {m} | {s}')"
   ]
  }
 ],
 "metadata": {
  "kernelspec": {
   "display_name": "Python 3",
   "language": "python",
   "name": "python3"
  },
  "language_info": {
   "codemirror_mode": {
    "name": "ipython",
    "version": 3
   },
   "file_extension": ".py",
   "mimetype": "text/x-python",
   "name": "python",
   "nbconvert_exporter": "python",
   "pygments_lexer": "ipython3",
   "version": "3.10.12"
  }
 },
 "nbformat": 4,
 "nbformat_minor": 2
}
