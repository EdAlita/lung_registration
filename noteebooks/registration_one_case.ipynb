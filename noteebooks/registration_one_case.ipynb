{
 "cells": [
  {
   "cell_type": "code",
   "execution_count": 1,
   "metadata": {},
   "outputs": [],
   "source": [
    "from pathlib import Path\n",
    "thispath = Path('__file__').resolve()\n",
    "base_path = thispath.parent.parent\n",
    "import sys; sys.path.insert(0, str(base_path))\n",
    "import json\n",
    "sys.path.append('../utils/')\n",
    "import time"
   ]
  },
  {
   "cell_type": "code",
   "execution_count": 2,
   "metadata": {},
   "outputs": [],
   "source": [
    "import SimpleITK as sitk\n",
    "import pandas as pd\n",
    "from tqdm.auto import tqdm\n",
    "import time\n",
    "import numpy as np\n",
    "from metrics import get_landmarks_array_from_txt_file, target_registration_error\n",
    "from elastic_helpers import elastix_wrapper, modify_field_parameter_map,transformix_wrapper"
   ]
  },
  {
   "cell_type": "code",
   "execution_count": 11,
   "metadata": {},
   "outputs": [],
   "source": [
    "base_path = Path().resolve().parent\n",
    "params_path = base_path / 'parameters'\n",
    "output_path = base_path /'elastix'\n",
    "results_path = base_path / 'experiments' / 'elastik' / 'results.json'\n"
   ]
  },
  {
   "cell_type": "code",
   "execution_count": 4,
   "metadata": {},
   "outputs": [],
   "source": [
    "dataset = pd.read_csv('../result_data/dir_lab_copd.csv')"
   ]
  },
  {
   "cell_type": "code",
   "execution_count": 5,
   "metadata": {},
   "outputs": [],
   "source": [
    "def registration(dataset,param_maps_to_use,experiment_name):\n",
    "    results = {}\n",
    "\n",
    "    for i in tqdm(range(len(dataset))):\n",
    "        sample = dataset.iloc[i]\n",
    "        sample_data = sample['case']\n",
    "\n",
    "        pm = param_maps_to_use[-1]\n",
    "        data_path = base_path / 'result_data' / sample_data\n",
    "        output_pm_path = output_path / pm.rstrip('.txt') / experiment_name\n",
    "        output_pm_path.mkdir(exist_ok=True, parents=True)\n",
    "        parameters_filename = params_path\n",
    "        result_path = output_path / sample['case'] / experiment_name\n",
    "        result_path.mkdir(exist_ok=True, parents=True)\n",
    "        param_maps_to_use_ = [str(params_path / p) for p in param_maps_to_use]\n",
    "        name = sample['case']\n",
    "        i_temp_path = data_path / f'{sample_data}_iBHCT.nii.gz'\n",
    "        e_temp_path = data_path / f'{sample_data}_eBHCT.nii.gz'\n",
    "        \n",
    "        print('Registration of image...')\n",
    "        start = time.time()\n",
    "        transform_map_path = elastix_wrapper(\n",
    "            i_temp_path, e_temp_path, result_path, param_maps_to_use_,\n",
    "        )\n",
    "        reg_time = time.time() - start\n",
    "        name = f'{sample_data}_300_iBH_xyz_r1.txt'\n",
    "        lm_points_filepath = data_path / name\n",
    "        # Correct transformation parameters file\n",
    "        field_value_pairs = [\n",
    "            ('ResultImageFormat', 'nii.gz'),\n",
    "            ('ResultImagePixelType', \"float\"),\n",
    "            ('FinalBSplineInterpolationorder', '0')\n",
    "        ]\n",
    "\n",
    "        modify_field_parameter_map(field_value_pairs, transform_map_path)\n",
    "        # Transform landmarks\n",
    "        print('Transforming points...')\n",
    "        lm_out_filepath = result_path.parent / f'r_{sample_data}'\n",
    "        transformix_wrapper(\n",
    "            lm_points_filepath, lm_out_filepath, transform_map_path,\n",
    "            points=True)\n",
    "                \n",
    "        landmarks = get_landmarks_array_from_txt_file(lm_out_filepath / name)\n",
    "        e_landmark_pts = pd.read_csv(sample['e_landmark_pts'], header=None, index_col=None).values\n",
    "        m, s = target_registration_error(landmarks, e_landmark_pts, [sample['space_x'],sample['space_y'],sample['space_z']])\n",
    "        print(f'{\"-\"*10} {sample_data} {\"-\"*10}')\n",
    "        print(f'Provided displacement: 21.77 | 6.46 ')\n",
    "        print(f'Computed displacement: {m} | {s}')\n",
    "        \n",
    "        results[sample['case']] = {\n",
    "            'mean_tre': m,\n",
    "            'std_tre': s,\n",
    "            'time': reg_time,\n",
    "        }\n",
    "    \n",
    "    return results"
   ]
  },
  {
   "cell_type": "code",
   "execution_count": 6,
   "metadata": {},
   "outputs": [],
   "source": [
    "experiment_name = 'Par0054_sstvd'\n",
    "param_maps_to_use = [\n",
    "        'Par0054_sstvd.txt'\n",
    "]"
   ]
  },
  {
   "cell_type": "code",
   "execution_count": 14,
   "metadata": {},
   "outputs": [
    {
     "data": {
      "application/vnd.jupyter.widget-view+json": {
       "model_id": "bee86a29a21d4571bae6827a95350c98",
       "version_major": 2,
       "version_minor": 0
      },
      "text/plain": [
       "  0%|          | 0/4 [00:00<?, ?it/s]"
      ]
     },
     "metadata": {},
     "output_type": "display_data"
    },
    {
     "name": "stdout",
     "output_type": "stream",
     "text": [
      "Registration of image...\n",
      "Transforming points...\n",
      "---------- copd1 ----------\n",
      "Provided displacement: 21.77 | 6.46 \n",
      "Computed displacement: 21.03 | 10.12\n",
      "Registration of image...\n",
      "Transforming points...\n",
      "---------- copd2 ----------\n",
      "Provided displacement: 21.77 | 6.46 \n",
      "Computed displacement: 18.76 | 6.0\n",
      "Registration of image...\n",
      "Transforming points...\n",
      "---------- copd3 ----------\n",
      "Provided displacement: 21.77 | 6.46 \n",
      "Computed displacement: 7.59 | 4.84\n",
      "Registration of image...\n",
      "Transforming points...\n",
      "---------- copd4 ----------\n",
      "Provided displacement: 21.77 | 6.46 \n",
      "Computed displacement: 24.55 | 9.36\n"
     ]
    }
   ],
   "source": [
    "results[experiment_name] = \\\n",
    "    registration(dataset,param_maps_to_use,experiment_name)\n",
    "with open(results_path, 'w') as json_file:\n",
    "    json.dump(results, json_file, indent=4, separators=(',', ': '))"
   ]
  },
  {
   "cell_type": "code",
   "execution_count": 13,
   "metadata": {},
   "outputs": [
    {
     "name": "stdout",
     "output_type": "stream",
     "text": [
      "{'copd1': {'mean_tre': 21.03, 'std_tre': 10.12, 'time': 188.22110414505005}, 'copd2': {'mean_tre': 18.76, 'std_tre': 6.0, 'time': 162.82338285446167}, 'copd3': {'mean_tre': 7.59, 'std_tre': 4.84, 'time': 207.8776981830597}, 'copd4': {'mean_tre': 24.55, 'std_tre': 9.36, 'time': 188.10323524475098}, 'Par0054_sstvd': {'copd1': {'mean_tre': 21.03, 'std_tre': 10.12, 'time': 200.30659651756287}, 'copd2': {'mean_tre': 18.76, 'std_tre': 6.0, 'time': 178.25403809547424}, 'copd3': {'mean_tre': 7.59, 'std_tre': 4.84, 'time': 215.0891616344452}, 'copd4': {'mean_tre': 24.55, 'std_tre': 9.36, 'time': 206.71247172355652}}}\n"
     ]
    }
   ],
   "source": [
    "print(results)"
   ]
  },
  {
   "cell_type": "code",
   "execution_count": null,
   "metadata": {},
   "outputs": [],
   "source": []
  }
 ],
 "metadata": {
  "kernelspec": {
   "display_name": "base",
   "language": "python",
   "name": "python3"
  },
  "language_info": {
   "codemirror_mode": {
    "name": "ipython",
    "version": 3
   },
   "file_extension": ".py",
   "mimetype": "text/x-python",
   "name": "python",
   "nbconvert_exporter": "python",
   "pygments_lexer": "ipython3",
   "version": "3.10.12"
  }
 },
 "nbformat": 4,
 "nbformat_minor": 2
}
