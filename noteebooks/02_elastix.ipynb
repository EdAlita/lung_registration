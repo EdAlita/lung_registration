{
 "cells": [
  {
   "cell_type": "code",
   "execution_count": 1,
   "metadata": {},
   "outputs": [],
   "source": [
    "from pathlib import Path\n",
    "thispath = Path('__file__').resolve()\n",
    "base_path = thispath.parent.parent\n",
    "import sys; sys.path.insert(0, str(base_path))\n",
    "import json\n",
    "sys.path.append('../utils/')\n",
    "import time"
   ]
  },
  {
   "cell_type": "code",
   "execution_count": 2,
   "metadata": {},
   "outputs": [],
   "source": [
    "import SimpleITK as sitk\n",
    "import pandas as pd\n",
    "from tqdm.auto import tqdm\n",
    "import time\n",
    "import numpy as np\n",
    "from metrics import get_landmarks_array_from_txt_file, target_registration_error\n",
    "from elastic_helpers import elastix_wrapper, modify_field_parameter_map,transformix_wrapper"
   ]
  },
  {
   "cell_type": "code",
   "execution_count": 3,
   "metadata": {},
   "outputs": [],
   "source": [
    "base_path = Path().resolve().parent\n",
    "params_path = base_path / 'parameters'\n",
    "output_path = base_path /'elastix'\n",
    "results_path = base_path / 'experiments' / 'elastik' / 'results.json'\n"
   ]
  },
  {
   "cell_type": "code",
   "execution_count": 4,
   "metadata": {},
   "outputs": [],
   "source": [
    "dataset = pd.read_csv('../result_data/dir_lab_copd.csv')"
   ]
  },
  {
   "cell_type": "code",
   "execution_count": 5,
   "metadata": {},
   "outputs": [],
   "source": [
    "def registration(dataset,param_maps_to_use,experiment_name,masks=False):\n",
    "    results = {}\n",
    "\n",
    "    for i in tqdm(range(len(dataset))):\n",
    "        sample = dataset.iloc[i]\n",
    "        sample_data = sample['case']\n",
    "        sample_mean = sample['disp_mean']\n",
    "        sample_std = sample['disp_std']\n",
    "\n",
    "        pm = param_maps_to_use[-1]\n",
    "        data_path = base_path / 'result_data' / sample_data\n",
    "        output_pm_path = output_path / pm.rstrip('.txt') / experiment_name\n",
    "        output_pm_path.mkdir(exist_ok=True, parents=True)\n",
    "\n",
    "        parameters_filename = params_path\n",
    "        result_path = output_path / sample['case'] / experiment_name\n",
    "        result_path.mkdir(exist_ok=True, parents=True)\n",
    "        \n",
    "        param_maps_to_use_ = [str(params_path / p) for p in param_maps_to_use]\n",
    "        name = sample['case']\n",
    "        i_temp_path = data_path / f'{sample_data}_iBHCT.nii.gz'\n",
    "        e_temp_path = data_path / f'{sample_data}_eBHCT.nii.gz'\n",
    "        i_lungs_mask_temp_path = data_path / f'{sample_data}_iBHCT_masks.nii.gz'\n",
    "        e_lungs_mask_temp_path = data_path / f'{sample_data}_eBHCT_masks.nii.gz'\n",
    "        \n",
    "        print('Registration of image...')\n",
    "        start = time.time()\n",
    "        \n",
    "        if masks is False:\n",
    "            transform_map_path = elastix_wrapper(\n",
    "                i_temp_path, e_temp_path, result_path.parent, param_maps_to_use_,\n",
    "                verbose=False, keep_just_useful_files=False\n",
    "            )\n",
    "        else:\n",
    "            transform_map_path = elastix_wrapper(\n",
    "                i_temp_path, e_temp_path, result_path.parent, param_maps_to_use_,\n",
    "                i_lungs_mask_temp_path, e_lungs_mask_temp_path, verbose=False,\n",
    "                keep_just_useful_files=False\n",
    "            )\n",
    "        \n",
    "        \n",
    "        reg_time = time.time() - start\n",
    "        name = f'{sample_data}_300_iBH_xyz_r1.txt'\n",
    "        lm_points_filepath = data_path / name\n",
    "        \n",
    "        field_value_pairs = [\n",
    "            ('ResultImageFormat', 'nii.gz'),\n",
    "            ('ResultImagePixelType', \"float\"),\n",
    "            ('FinalBSplineInterpolationorder', '0')\n",
    "        ]\n",
    "\n",
    "        modify_field_parameter_map(field_value_pairs, transform_map_path)\n",
    "        \n",
    "        # Transform landmarks\n",
    "        print('Transforming points...')\n",
    "        lm_out_filepath = result_path.parent / f'r_{sample_data}'\n",
    "        transformix_wrapper(\n",
    "            lm_points_filepath, lm_out_filepath, transform_map_path,\n",
    "            points=True)\n",
    "                \n",
    "        landmarks = get_landmarks_array_from_txt_file(lm_out_filepath / name)\n",
    "        e_landmark_pts = pd.read_csv(sample['e_landmark_pts'], header=None, index_col=None).values\n",
    "        m, s = target_registration_error(landmarks, e_landmark_pts, [sample['space_x'],sample['space_y'],sample['space_z']])\n",
    "        print(f'{\"-\"*10} {sample_data} {\"-\"*10}')\n",
    "        print(f'Provided displacement: {sample_mean} | {sample_std} ')\n",
    "        print(f'Computed displacement: {m} | {s}')\n",
    "        \n",
    "        results[sample['case']] = {\n",
    "            'mean_tre': m,\n",
    "            'std_tre': s,\n",
    "            'time': reg_time,\n",
    "            'maks_on' : masks\n",
    "        }\n",
    "    \n",
    "    return results"
   ]
  },
  {
   "cell_type": "markdown",
   "metadata": {},
   "source": [
    "## Experiments without a mask"
   ]
  },
  {
   "cell_type": "code",
   "execution_count": 6,
   "metadata": {},
   "outputs": [],
   "source": [
    "experiment_results = {}\n",
    "experiment_name = 'Baseline'\n",
    "param_maps_to_use = [\n",
    "        'Par0054_sstvd.txt'\n",
    "]"
   ]
  },
  {
   "cell_type": "code",
   "execution_count": 7,
   "metadata": {},
   "outputs": [
    {
     "data": {
      "application/vnd.jupyter.widget-view+json": {
       "model_id": "174abde88fdc4598990a3ddf40dddd48",
       "version_major": 2,
       "version_minor": 0
      },
      "text/plain": [
       "  0%|          | 0/4 [00:00<?, ?it/s]"
      ]
     },
     "metadata": {},
     "output_type": "display_data"
    },
    {
     "name": "stdout",
     "output_type": "stream",
     "text": [
      "Registration of image...\n",
      "Transforming points...\n",
      "---------- copd1 ----------\n",
      "Provided displacement: 25.9 | 11.57 \n",
      "Computed displacement: 21.03 | 10.12\n",
      "Registration of image...\n",
      "Transforming points...\n",
      "---------- copd2 ----------\n",
      "Provided displacement: 21.77 | 6.46 \n",
      "Computed displacement: 18.76 | 6.0\n",
      "Registration of image...\n",
      "Transforming points...\n",
      "---------- copd3 ----------\n",
      "Provided displacement: 12.29 | 6.39 \n",
      "Computed displacement: 7.59 | 4.84\n",
      "Registration of image...\n",
      "Transforming points...\n",
      "---------- copd4 ----------\n",
      "Provided displacement: 30.9 | 13.49 \n",
      "Computed displacement: 24.55 | 9.36\n"
     ]
    }
   ],
   "source": [
    "experiment_results[experiment_name] = \\\n",
    "    registration(dataset,param_maps_to_use,experiment_name)\n",
    "with open(results_path, 'w') as json_file:\n",
    "    json.dump(experiment_results, json_file, indent=4, separators=(',', ': '))"
   ]
  },
  {
   "cell_type": "code",
   "execution_count": 8,
   "metadata": {},
   "outputs": [],
   "source": [
    "experiment_name = 'Par0054_resolutions_6'\n",
    "param_maps_to_use = [\n",
    "        'Par0054_resolutions_6.txt'\n",
    "]"
   ]
  },
  {
   "cell_type": "code",
   "execution_count": 9,
   "metadata": {},
   "outputs": [
    {
     "data": {
      "application/vnd.jupyter.widget-view+json": {
       "model_id": "0c3f015295444baabd116298a67c4e52",
       "version_major": 2,
       "version_minor": 0
      },
      "text/plain": [
       "  0%|          | 0/4 [00:00<?, ?it/s]"
      ]
     },
     "metadata": {},
     "output_type": "display_data"
    },
    {
     "name": "stdout",
     "output_type": "stream",
     "text": [
      "Registration of image...\n",
      "Transforming points...\n",
      "---------- copd1 ----------\n",
      "Provided displacement: 25.9 | 11.57 \n",
      "Computed displacement: 8.7 | 6.77\n",
      "Registration of image...\n",
      "Transforming points...\n",
      "---------- copd2 ----------\n",
      "Provided displacement: 21.77 | 6.46 \n",
      "Computed displacement: 12.9 | 6.14\n",
      "Registration of image...\n",
      "Transforming points...\n",
      "---------- copd3 ----------\n",
      "Provided displacement: 12.29 | 6.39 \n",
      "Computed displacement: 5.97 | 3.83\n",
      "Registration of image...\n",
      "Transforming points...\n",
      "---------- copd4 ----------\n",
      "Provided displacement: 30.9 | 13.49 \n",
      "Computed displacement: 11.01 | 4.8\n"
     ]
    }
   ],
   "source": [
    "experiment_results[experiment_name] = \\\n",
    "    registration(dataset,param_maps_to_use,experiment_name)\n",
    "with open(results_path, 'w') as json_file:\n",
    "    json.dump(experiment_results, json_file, indent=4, separators=(',', ': '))"
   ]
  },
  {
   "cell_type": "code",
   "execution_count": 17,
   "metadata": {},
   "outputs": [],
   "source": [
    "experiment_name = 'Par0054_resolutions_6_600it'\n",
    "param_maps_to_use = [\n",
    "        'Par0054_resolutions_6_600it.txt'\n",
    "]"
   ]
  },
  {
   "cell_type": "code",
   "execution_count": 18,
   "metadata": {},
   "outputs": [
    {
     "data": {
      "application/vnd.jupyter.widget-view+json": {
       "model_id": "e2404880c70b44eaaf7a8dc6fdffb0df",
       "version_major": 2,
       "version_minor": 0
      },
      "text/plain": [
       "  0%|          | 0/4 [00:00<?, ?it/s]"
      ]
     },
     "metadata": {},
     "output_type": "display_data"
    },
    {
     "name": "stdout",
     "output_type": "stream",
     "text": [
      "Registration of image...\n",
      "Transforming points...\n",
      "---------- copd1 ----------\n",
      "Provided displacement: 25.9 | 11.57 \n",
      "Computed displacement: 9.32 | 5.94\n",
      "Registration of image...\n",
      "Transforming points...\n",
      "---------- copd2 ----------\n",
      "Provided displacement: 21.77 | 6.46 \n",
      "Computed displacement: 11.88 | 6.71\n",
      "Registration of image...\n",
      "Transforming points...\n",
      "---------- copd3 ----------\n",
      "Provided displacement: 12.29 | 6.39 \n",
      "Computed displacement: 5.74 | 4.05\n",
      "Registration of image...\n",
      "Transforming points...\n",
      "---------- copd4 ----------\n",
      "Provided displacement: 30.9 | 13.49 \n",
      "Computed displacement: 11.1 | 5.27\n"
     ]
    }
   ],
   "source": [
    "experiment_results[experiment_name] = \\\n",
    "    registration(dataset,param_maps_to_use,experiment_name)\n",
    "with open(results_path, 'w') as json_file:\n",
    "    json.dump(experiment_results, json_file, indent=4, separators=(',', ': '))"
   ]
  },
  {
   "cell_type": "code",
   "execution_count": 19,
   "metadata": {},
   "outputs": [],
   "source": [
    "experiment_name = 'Par0054_resolutions_6_200it'\n",
    "param_maps_to_use = [\n",
    "        'Par0054_resolutions_6_200it.txt'\n",
    "]"
   ]
  },
  {
   "cell_type": "code",
   "execution_count": 20,
   "metadata": {},
   "outputs": [
    {
     "data": {
      "application/vnd.jupyter.widget-view+json": {
       "model_id": "2a9aeefa2ada4c93a39be8b8c4c04eef",
       "version_major": 2,
       "version_minor": 0
      },
      "text/plain": [
       "  0%|          | 0/4 [00:00<?, ?it/s]"
      ]
     },
     "metadata": {},
     "output_type": "display_data"
    },
    {
     "name": "stdout",
     "output_type": "stream",
     "text": [
      "Registration of image...\n",
      "Transforming points...\n",
      "---------- copd1 ----------\n",
      "Provided displacement: 25.9 | 11.57 \n",
      "Computed displacement: 8.98 | 5.95\n",
      "Registration of image...\n",
      "Transforming points...\n",
      "---------- copd2 ----------\n",
      "Provided displacement: 21.77 | 6.46 \n",
      "Computed displacement: 12.26 | 6.42\n",
      "Registration of image...\n",
      "Transforming points...\n",
      "---------- copd3 ----------\n",
      "Provided displacement: 12.29 | 6.39 \n",
      "Computed displacement: 5.79 | 3.95\n",
      "Registration of image...\n",
      "Transforming points...\n",
      "---------- copd4 ----------\n",
      "Provided displacement: 30.9 | 13.49 \n",
      "Computed displacement: 10.64 | 5.11\n"
     ]
    }
   ],
   "source": [
    "experiment_results[experiment_name] = \\\n",
    "    registration(dataset,param_maps_to_use,experiment_name)\n",
    "with open(results_path, 'w') as json_file:\n",
    "    json.dump(experiment_results, json_file, indent=4, separators=(',', ': '))"
   ]
  },
  {
   "cell_type": "code",
   "execution_count": 21,
   "metadata": {},
   "outputs": [],
   "source": [
    "experiment_name = 'Par0003.bs-R8-fg'\n",
    "param_maps_to_use = [\n",
    "        'Par0003.bs-R8-fg.txt'\n",
    "]"
   ]
  },
  {
   "cell_type": "code",
   "execution_count": 22,
   "metadata": {},
   "outputs": [
    {
     "data": {
      "application/vnd.jupyter.widget-view+json": {
       "model_id": "a4a77c9cef924a09b17de6c58a549e01",
       "version_major": 2,
       "version_minor": 0
      },
      "text/plain": [
       "  0%|          | 0/4 [00:00<?, ?it/s]"
      ]
     },
     "metadata": {},
     "output_type": "display_data"
    },
    {
     "name": "stdout",
     "output_type": "stream",
     "text": [
      "Registration of image...\n",
      "Transforming points...\n",
      "---------- copd1 ----------\n",
      "Provided displacement: 25.9 | 11.57 \n",
      "Computed displacement: 7.52 | 5.16\n",
      "Registration of image...\n",
      "Transforming points...\n",
      "---------- copd2 ----------\n",
      "Provided displacement: 21.77 | 6.46 \n",
      "Computed displacement: 12.37 | 7.35\n",
      "Registration of image...\n",
      "Transforming points...\n",
      "---------- copd3 ----------\n",
      "Provided displacement: 12.29 | 6.39 \n",
      "Computed displacement: 4.55 | 3.62\n",
      "Registration of image...\n",
      "Transforming points...\n",
      "---------- copd4 ----------\n",
      "Provided displacement: 30.9 | 13.49 \n",
      "Computed displacement: 9.02 | 4.65\n"
     ]
    }
   ],
   "source": [
    "experiment_results[experiment_name] = \\\n",
    "    registration(dataset,param_maps_to_use,experiment_name)\n",
    "with open(results_path, 'w') as json_file:\n",
    "    json.dump(experiment_results, json_file, indent=4, separators=(',', ': '))"
   ]
  },
  {
   "cell_type": "code",
   "execution_count": 25,
   "metadata": {},
   "outputs": [
    {
     "data": {
      "application/vnd.jupyter.widget-view+json": {
       "model_id": "4ca0bc069ff046ff96d68c7cff36cf62",
       "version_major": 2,
       "version_minor": 0
      },
      "text/plain": [
       "  0%|          | 0/4 [00:00<?, ?it/s]"
      ]
     },
     "metadata": {},
     "output_type": "display_data"
    },
    {
     "name": "stdout",
     "output_type": "stream",
     "text": [
      "Registration of image...\n",
      "Transforming points...\n",
      "---------- copd1 ----------\n",
      "Provided displacement: 25.9 | 11.57 \n",
      "Computed displacement: 7.11 | 4.43\n",
      "Registration of image...\n",
      "Transforming points...\n",
      "---------- copd2 ----------\n",
      "Provided displacement: 21.77 | 6.46 \n",
      "Computed displacement: 12.33 | 7.07\n",
      "Registration of image...\n",
      "Transforming points...\n",
      "---------- copd3 ----------\n",
      "Provided displacement: 12.29 | 6.39 \n",
      "Computed displacement: 4.07 | 3.16\n",
      "Registration of image...\n",
      "Transforming points...\n",
      "---------- copd4 ----------\n",
      "Provided displacement: 30.9 | 13.49 \n",
      "Computed displacement: 7.8 | 4.07\n"
     ]
    }
   ],
   "source": [
    "experiment_name = 'Par0003.bs-R8-fg_bspline'\n",
    "param_maps_to_use = [\n",
    "        'Par0003.bs-R8-fg_bspline.txt'\n",
    "]\n",
    "experiment_results[experiment_name] = \\\n",
    "    registration(dataset,param_maps_to_use,experiment_name)\n",
    "with open(results_path, 'w') as json_file:\n",
    "    json.dump(experiment_results, json_file, indent=4, separators=(',', ': '))"
   ]
  },
  {
   "cell_type": "code",
   "execution_count": 26,
   "metadata": {},
   "outputs": [
    {
     "data": {
      "application/vnd.jupyter.widget-view+json": {
       "model_id": "7260f9498c684ff4a4cef479c0aa737a",
       "version_major": 2,
       "version_minor": 0
      },
      "text/plain": [
       "  0%|          | 0/4 [00:00<?, ?it/s]"
      ]
     },
     "metadata": {},
     "output_type": "display_data"
    },
    {
     "name": "stdout",
     "output_type": "stream",
     "text": [
      "Registration of image...\n",
      "Transforming points...\n",
      "---------- copd1 ----------\n",
      "Provided displacement: 25.9 | 11.57 \n",
      "Computed displacement: 7.11 | 4.43\n",
      "Registration of image...\n",
      "Transforming points...\n",
      "---------- copd2 ----------\n",
      "Provided displacement: 21.77 | 6.46 \n",
      "Computed displacement: 12.33 | 7.07\n",
      "Registration of image...\n",
      "Transforming points...\n",
      "---------- copd3 ----------\n",
      "Provided displacement: 12.29 | 6.39 \n",
      "Computed displacement: 4.07 | 3.16\n",
      "Registration of image...\n",
      "Transforming points...\n",
      "---------- copd4 ----------\n",
      "Provided displacement: 30.9 | 13.49 \n",
      "Computed displacement: 7.8 | 4.07\n"
     ]
    }
   ],
   "source": [
    "experiment_name = 'Par0003.bs-R8-fg_bspline_SP_a 10000'\n",
    "param_maps_to_use = [\n",
    "        'Par0003.bs-R8-fg_bspline_SP_a 10000.txt'\n",
    "]\n",
    "experiment_results[experiment_name] = \\\n",
    "    registration(dataset,param_maps_to_use,experiment_name)\n",
    "with open(results_path, 'w') as json_file:\n",
    "    json.dump(experiment_results, json_file, indent=4, separators=(',', ': '))"
   ]
  },
  {
   "cell_type": "code",
   "execution_count": 27,
   "metadata": {},
   "outputs": [
    {
     "data": {
      "application/vnd.jupyter.widget-view+json": {
       "model_id": "f7499c80910141a198aa595bc2aeb55a",
       "version_major": 2,
       "version_minor": 0
      },
      "text/plain": [
       "  0%|          | 0/4 [00:00<?, ?it/s]"
      ]
     },
     "metadata": {},
     "output_type": "display_data"
    },
    {
     "name": "stdout",
     "output_type": "stream",
     "text": [
      "Registration of image...\n",
      "Transforming points...\n",
      "---------- copd1 ----------\n",
      "Provided displacement: 25.9 | 11.57 \n",
      "Computed displacement: 7.02 | 4.45\n",
      "Registration of image...\n",
      "Transforming points...\n",
      "---------- copd2 ----------\n",
      "Provided displacement: 21.77 | 6.46 \n",
      "Computed displacement: 12.13 | 6.92\n",
      "Registration of image...\n",
      "Transforming points...\n",
      "---------- copd3 ----------\n",
      "Provided displacement: 12.29 | 6.39 \n",
      "Computed displacement: 4.1 | 3.08\n",
      "Registration of image...\n",
      "Transforming points...\n",
      "---------- copd4 ----------\n",
      "Provided displacement: 30.9 | 13.49 \n",
      "Computed displacement: 7.66 | 4.01\n"
     ]
    }
   ],
   "source": [
    "experiment_name = 'Par0003.bs-R8-fg_bspline_SP_A 50'\n",
    "param_maps_to_use = [\n",
    "        'Par0003.bs-R8-fg_bspline_SP_A 50.txt'\n",
    "]\n",
    "experiment_results[experiment_name] = \\\n",
    "    registration(dataset,param_maps_to_use,experiment_name)\n",
    "with open(results_path, 'w') as json_file:\n",
    "    json.dump(experiment_results, json_file, indent=4, separators=(',', ': '))"
   ]
  },
  {
   "cell_type": "code",
   "execution_count": 29,
   "metadata": {},
   "outputs": [
    {
     "data": {
      "application/vnd.jupyter.widget-view+json": {
       "model_id": "1ffd6e35167444c48ba5f94d0ef2d40e",
       "version_major": 2,
       "version_minor": 0
      },
      "text/plain": [
       "  0%|          | 0/4 [00:00<?, ?it/s]"
      ]
     },
     "metadata": {},
     "output_type": "display_data"
    },
    {
     "name": "stdout",
     "output_type": "stream",
     "text": [
      "Registration of image...\n",
      "Transforming points...\n",
      "---------- copd1 ----------\n",
      "Provided displacement: 25.9 | 11.57 \n",
      "Computed displacement: 6.99 | 4.6\n",
      "Registration of image...\n",
      "Transforming points...\n",
      "---------- copd2 ----------\n",
      "Provided displacement: 21.77 | 6.46 \n",
      "Computed displacement: 12.11 | 7.18\n",
      "Registration of image...\n",
      "Transforming points...\n",
      "---------- copd3 ----------\n",
      "Provided displacement: 12.29 | 6.39 \n",
      "Computed displacement: 4.02 | 3.25\n",
      "Registration of image...\n",
      "Transforming points...\n",
      "---------- copd4 ----------\n",
      "Provided displacement: 30.9 | 13.49 \n",
      "Computed displacement: 8.13 | 4.32\n"
     ]
    }
   ],
   "source": [
    "experiment_name = 'Par0003.bs-R8-fg_bspline_MAXITER_3000'\n",
    "param_maps_to_use = [\n",
    "        'Par0003.bs-R8-fg_bspline_MAXITER_3000.txt'\n",
    "]\n",
    "experiment_results[experiment_name] = \\\n",
    "    registration(dataset,param_maps_to_use,experiment_name)\n",
    "with open(results_path, 'w') as json_file:\n",
    "    json.dump(experiment_results, json_file, indent=4, separators=(',', ': '))"
   ]
  },
  {
   "cell_type": "code",
   "execution_count": 30,
   "metadata": {},
   "outputs": [
    {
     "data": {
      "application/vnd.jupyter.widget-view+json": {
       "model_id": "f5b4e065108d46059a38c2af73230f59",
       "version_major": 2,
       "version_minor": 0
      },
      "text/plain": [
       "  0%|          | 0/4 [00:00<?, ?it/s]"
      ]
     },
     "metadata": {},
     "output_type": "display_data"
    },
    {
     "name": "stdout",
     "output_type": "stream",
     "text": [
      "Registration of image...\n",
      "Transforming points...\n",
      "---------- copd1 ----------\n",
      "Provided displacement: 25.9 | 11.57 \n",
      "Computed displacement: 7.17 | 4.6\n",
      "Registration of image...\n",
      "Transforming points...\n",
      "---------- copd2 ----------\n",
      "Provided displacement: 21.77 | 6.46 \n",
      "Computed displacement: 12.4 | 7.01\n",
      "Registration of image...\n",
      "Transforming points...\n",
      "---------- copd3 ----------\n",
      "Provided displacement: 12.29 | 6.39 \n",
      "Computed displacement: 4.19 | 3.27\n",
      "Registration of image...\n",
      "Transforming points...\n",
      "---------- copd4 ----------\n",
      "Provided displacement: 30.9 | 13.49 \n",
      "Computed displacement: 8.04 | 4.17\n"
     ]
    }
   ],
   "source": [
    "experiment_name = 'Par0003.bs-R8-fg_BSPLINE_12UNITS'\n",
    "param_maps_to_use = [\n",
    "        'Par0003.bs-R8-fg_BSPLINE_12UNITS.txt'\n",
    "]\n",
    "experiment_results[experiment_name] = \\\n",
    "    registration(dataset,param_maps_to_use,experiment_name)\n",
    "with open(results_path, 'w') as json_file:\n",
    "    json.dump(experiment_results, json_file, indent=4, separators=(',', ': '))"
   ]
  },
  {
   "cell_type": "code",
   "execution_count": 28,
   "metadata": {},
   "outputs": [
    {
     "data": {
      "application/vnd.jupyter.widget-view+json": {
       "model_id": "e1228c3f97994a259112029c1e0a658f",
       "version_major": 2,
       "version_minor": 0
      },
      "text/plain": [
       "  0%|          | 0/4 [00:00<?, ?it/s]"
      ]
     },
     "metadata": {},
     "output_type": "display_data"
    },
    {
     "name": "stdout",
     "output_type": "stream",
     "text": [
      "Registration of image...\n",
      "Transforming points...\n",
      "---------- copd1 ----------\n",
      "Provided displacement: 25.9 | 11.57 \n",
      "Computed displacement: 7.17 | 4.6\n",
      "Registration of image...\n",
      "Transforming points...\n",
      "---------- copd2 ----------\n",
      "Provided displacement: 21.77 | 6.46 \n",
      "Computed displacement: 12.4 | 7.01\n",
      "Registration of image...\n",
      "Transforming points...\n",
      "---------- copd3 ----------\n",
      "Provided displacement: 12.29 | 6.39 \n",
      "Computed displacement: 4.19 | 3.27\n",
      "Registration of image...\n",
      "Transforming points...\n",
      "---------- copd4 ----------\n",
      "Provided displacement: 30.9 | 13.49 \n",
      "Computed displacement: 8.04 | 4.17\n"
     ]
    }
   ],
   "source": [
    "experiment_name = 'Par0003.bs-R8-fg_affine'\n",
    "param_maps_to_use = [\n",
    "        'Par0003.bs-R8-fg_affine.txt'\n",
    "]\n",
    "experiment_results[experiment_name] = \\\n",
    "    registration(dataset,param_maps_to_use,experiment_name)\n",
    "with open(results_path, 'w') as json_file:\n",
    "    json.dump(experiment_results, json_file, indent=4, separators=(',', ': '))"
   ]
  },
  {
   "cell_type": "code",
   "execution_count": 31,
   "metadata": {},
   "outputs": [
    {
     "data": {
      "application/vnd.jupyter.widget-view+json": {
       "model_id": "deef96705b4442a7996c59a8a8d7bb83",
       "version_major": 2,
       "version_minor": 0
      },
      "text/plain": [
       "  0%|          | 0/4 [00:00<?, ?it/s]"
      ]
     },
     "metadata": {},
     "output_type": "display_data"
    },
    {
     "name": "stdout",
     "output_type": "stream",
     "text": [
      "Registration of image...\n",
      "Transforming points...\n",
      "---------- copd1 ----------\n",
      "Provided displacement: 25.9 | 11.57 \n",
      "Computed displacement: 7.13 | 4.45\n",
      "Registration of image...\n",
      "Transforming points...\n",
      "---------- copd2 ----------\n",
      "Provided displacement: 21.77 | 6.46 \n",
      "Computed displacement: 12.39 | 7.09\n",
      "Registration of image...\n",
      "Transforming points...\n",
      "---------- copd3 ----------\n",
      "Provided displacement: 12.29 | 6.39 \n",
      "Computed displacement: 4.04 | 3.17\n",
      "Registration of image...\n",
      "Transforming points...\n",
      "---------- copd4 ----------\n",
      "Provided displacement: 30.9 | 13.49 \n",
      "Computed displacement: 7.8 | 4.11\n"
     ]
    }
   ],
   "source": [
    "experiment_name = 'Par0003.bs-6R_modified'\n",
    "param_maps_to_use = [\n",
    "        'Par0003.bs-6R_modified.txt'\n",
    "]\n",
    "experiment_results[experiment_name] = \\\n",
    "    registration(dataset,param_maps_to_use,experiment_name)\n",
    "with open(results_path, 'w') as json_file:\n",
    "    json.dump(experiment_results, json_file, indent=4, separators=(',', ': '))"
   ]
  },
  {
   "cell_type": "code",
   "execution_count": 32,
   "metadata": {},
   "outputs": [
    {
     "data": {
      "application/vnd.jupyter.widget-view+json": {
       "model_id": "c0458350e44d4a2aa5ac71ecbfde1d99",
       "version_major": 2,
       "version_minor": 0
      },
      "text/plain": [
       "  0%|          | 0/4 [00:00<?, ?it/s]"
      ]
     },
     "metadata": {},
     "output_type": "display_data"
    },
    {
     "name": "stdout",
     "output_type": "stream",
     "text": [
      "Registration of image...\n",
      "Transforming points...\n",
      "---------- copd1 ----------\n",
      "Provided displacement: 25.9 | 11.57 \n",
      "Computed displacement: 25.91 | 10.99\n",
      "Registration of image...\n",
      "Transforming points...\n",
      "---------- copd2 ----------\n",
      "Provided displacement: 21.77 | 6.46 \n",
      "Computed displacement: 24.61 | 5.38\n",
      "Registration of image...\n",
      "Transforming points...\n",
      "---------- copd3 ----------\n",
      "Provided displacement: 12.29 | 6.39 \n",
      "Computed displacement: 5.9 | 3.33\n",
      "Registration of image...\n",
      "Transforming points...\n",
      "---------- copd4 ----------\n",
      "Provided displacement: 30.9 | 13.49 \n",
      "Computed displacement: 21.62 | 9.58\n"
     ]
    }
   ],
   "source": [
    "experiment_name = 'Par0003.affine'\n",
    "param_maps_to_use = [\n",
    "        'Par0003.affine.txt'\n",
    "]\n",
    "experiment_results[experiment_name] = \\\n",
    "    registration(dataset,param_maps_to_use,experiment_name)\n",
    "with open(results_path, 'w') as json_file:\n",
    "    json.dump(experiment_results, json_file, indent=4, separators=(',', ': '))"
   ]
  },
  {
   "cell_type": "code",
   "execution_count": 35,
   "metadata": {},
   "outputs": [
    {
     "data": {
      "application/vnd.jupyter.widget-view+json": {
       "model_id": "775c3008e2bb4ce1b302aee8b037ac71",
       "version_major": 2,
       "version_minor": 0
      },
      "text/plain": [
       "  0%|          | 0/4 [00:00<?, ?it/s]"
      ]
     },
     "metadata": {},
     "output_type": "display_data"
    },
    {
     "name": "stdout",
     "output_type": "stream",
     "text": [
      "Registration of image...\n",
      "Transforming points...\n",
      "---------- copd1 ----------\n",
      "Provided displacement: 25.9 | 11.57 \n",
      "Computed displacement: 7.17 | 4.6\n",
      "Registration of image...\n",
      "Transforming points...\n",
      "---------- copd2 ----------\n",
      "Provided displacement: 21.77 | 6.46 \n",
      "Computed displacement: 12.4 | 7.01\n",
      "Registration of image...\n",
      "Transforming points...\n",
      "---------- copd3 ----------\n",
      "Provided displacement: 12.29 | 6.39 \n",
      "Computed displacement: 4.19 | 3.27\n",
      "Registration of image...\n",
      "Transforming points...\n",
      "---------- copd4 ----------\n",
      "Provided displacement: 30.9 | 13.49 \n",
      "Computed displacement: 8.04 | 4.17\n"
     ]
    }
   ],
   "source": [
    "experiment_name = 'best_untilnow'\n",
    "param_maps_to_use = [\n",
    "        'best_untilnow.txt'\n",
    "]\n",
    "experiment_results[experiment_name] = \\\n",
    "    registration(dataset,param_maps_to_use,experiment_name)\n",
    "with open(results_path, 'w') as json_file:\n",
    "    json.dump(experiment_results, json_file, indent=4, separators=(',', ': '))"
   ]
  },
  {
   "cell_type": "code",
   "execution_count": 37,
   "metadata": {},
   "outputs": [
    {
     "data": {
      "application/vnd.jupyter.widget-view+json": {
       "model_id": "42c27086ec3942ec916ee9ae96c89e2e",
       "version_major": 2,
       "version_minor": 0
      },
      "text/plain": [
       "  0%|          | 0/4 [00:00<?, ?it/s]"
      ]
     },
     "metadata": {},
     "output_type": "display_data"
    },
    {
     "name": "stdout",
     "output_type": "stream",
     "text": [
      "Registration of image...\n",
      "Transforming points...\n",
      "---------- copd1 ----------\n",
      "Provided displacement: 25.9 | 11.57 \n",
      "Computed displacement: 4.36 | 4.0\n",
      "Registration of image...\n",
      "Transforming points...\n",
      "---------- copd2 ----------\n",
      "Provided displacement: 21.77 | 6.46 \n",
      "Computed displacement: 5.84 | 6.07\n",
      "Registration of image...\n",
      "Transforming points...\n",
      "---------- copd3 ----------\n",
      "Provided displacement: 12.29 | 6.39 \n",
      "Computed displacement: 2.93 | 2.69\n",
      "Registration of image...\n",
      "Transforming points...\n",
      "---------- copd4 ----------\n",
      "Provided displacement: 30.9 | 13.49 \n",
      "Computed displacement: 5.58 | 5.28\n"
     ]
    }
   ],
   "source": [
    "experiment_name = 'Par0003.bs-R8-fg_NormalizedMI'\n",
    "param_maps_to_use = [\n",
    "        'Par0003.bs-R8-fg_NormalizedMI.txt'\n",
    "]\n",
    "experiment_results[experiment_name] = \\\n",
    "    registration(dataset,param_maps_to_use,experiment_name)\n",
    "with open(results_path, 'w') as json_file:\n",
    "    json.dump(experiment_results, json_file, indent=4, separators=(',', ': '))"
   ]
  },
  {
   "cell_type": "markdown",
   "metadata": {},
   "source": [
    "## Experiments with masks"
   ]
  },
  {
   "cell_type": "code",
   "execution_count": 40,
   "metadata": {},
   "outputs": [],
   "source": [
    "results_path = base_path / 'experiments' / 'elastik' / 'results_masks.json'\n",
    "experiment_results = {}"
   ]
  },
  {
   "cell_type": "code",
   "execution_count": 41,
   "metadata": {},
   "outputs": [
    {
     "data": {
      "application/vnd.jupyter.widget-view+json": {
       "model_id": "c8bdb216b37f45078627cee4a2f21630",
       "version_major": 2,
       "version_minor": 0
      },
      "text/plain": [
       "  0%|          | 0/4 [00:00<?, ?it/s]"
      ]
     },
     "metadata": {},
     "output_type": "display_data"
    },
    {
     "name": "stdout",
     "output_type": "stream",
     "text": [
      "Registration of image...\n",
      "Transforming points...\n",
      "---------- copd1 ----------\n",
      "Provided displacement: 25.9 | 11.57 \n",
      "Computed displacement: 25.6 | 11.69\n",
      "Registration of image...\n",
      "Transforming points...\n",
      "---------- copd2 ----------\n",
      "Provided displacement: 21.77 | 6.46 \n",
      "Computed displacement: 21.18 | 6.51\n",
      "Registration of image...\n",
      "Transforming points...\n",
      "---------- copd3 ----------\n",
      "Provided displacement: 12.29 | 6.39 \n",
      "Computed displacement: 6.71 | 6.61\n",
      "Registration of image...\n",
      "Transforming points...\n",
      "---------- copd4 ----------\n",
      "Provided displacement: 30.9 | 13.49 \n",
      "Computed displacement: 27.99 | 12.22\n"
     ]
    }
   ],
   "source": [
    "experiment_name = 'Baseline'\n",
    "param_maps_to_use = [\n",
    "        'Par0054_sstvd.txt'\n",
    "]\n",
    "experiment_results[experiment_name] = \\\n",
    "    registration(dataset,param_maps_to_use,experiment_name,masks=True)\n",
    "with open(results_path, 'w') as json_file:\n",
    "    json.dump(experiment_results, json_file, indent=4, separators=(',', ': '))"
   ]
  },
  {
   "cell_type": "code",
   "execution_count": 46,
   "metadata": {},
   "outputs": [
    {
     "data": {
      "application/vnd.jupyter.widget-view+json": {
       "model_id": "89a745ec1bd54c11805042fefc87775a",
       "version_major": 2,
       "version_minor": 0
      },
      "text/plain": [
       "  0%|          | 0/4 [00:00<?, ?it/s]"
      ]
     },
     "metadata": {},
     "output_type": "display_data"
    },
    {
     "name": "stdout",
     "output_type": "stream",
     "text": [
      "Registration of image...\n",
      "Transforming points...\n",
      "---------- copd1 ----------\n",
      "Provided displacement: 25.9 | 11.57 \n",
      "Computed displacement: 1.38 | 1.75\n",
      "Registration of image...\n",
      "Transforming points...\n",
      "---------- copd2 ----------\n",
      "Provided displacement: 21.77 | 6.46 \n",
      "Computed displacement: 3.69 | 6.94\n",
      "Registration of image...\n",
      "Transforming points...\n",
      "---------- copd3 ----------\n",
      "Provided displacement: 12.29 | 6.39 \n",
      "Computed displacement: 1.09 | 0.97\n",
      "Registration of image...\n",
      "Transforming points...\n",
      "---------- copd4 ----------\n",
      "Provided displacement: 30.9 | 13.49 \n",
      "Computed displacement: 1.47 | 1.2\n"
     ]
    }
   ],
   "source": [
    "experiment_name = 'Par0003.bs-R8-fg'\n",
    "param_maps_to_use = [\n",
    "        'Par0003.bs-R8-fg.txt'\n",
    "]\n",
    "experiment_results[experiment_name] = \\\n",
    "    registration(dataset,param_maps_to_use,experiment_name,masks=True)\n",
    "with open(results_path, 'w') as json_file:\n",
    "    json.dump(experiment_results, json_file, indent=4, separators=(',', ': '))"
   ]
  },
  {
   "cell_type": "code",
   "execution_count": 47,
   "metadata": {},
   "outputs": [
    {
     "data": {
      "application/vnd.jupyter.widget-view+json": {
       "model_id": "8547748981484b5ba3ac4bc2532ae754",
       "version_major": 2,
       "version_minor": 0
      },
      "text/plain": [
       "  0%|          | 0/4 [00:00<?, ?it/s]"
      ]
     },
     "metadata": {},
     "output_type": "display_data"
    },
    {
     "name": "stdout",
     "output_type": "stream",
     "text": [
      "Registration of image...\n",
      "Transforming points...\n",
      "---------- copd1 ----------\n",
      "Provided displacement: 25.9 | 11.57 \n",
      "Computed displacement: 7.11 | 4.43\n",
      "Registration of image...\n",
      "Transforming points...\n",
      "---------- copd2 ----------\n",
      "Provided displacement: 21.77 | 6.46 \n",
      "Computed displacement: 12.33 | 7.07\n",
      "Registration of image...\n",
      "Transforming points...\n",
      "---------- copd3 ----------\n",
      "Provided displacement: 12.29 | 6.39 \n",
      "Computed displacement: 4.07 | 3.16\n",
      "Registration of image...\n",
      "Transforming points...\n",
      "---------- copd4 ----------\n",
      "Provided displacement: 30.9 | 13.49 \n",
      "Computed displacement: 7.8 | 4.07\n"
     ]
    }
   ],
   "source": [
    "experiment_name = 'Par0003.bs-R8-fg_bspline_SP_a 10000'\n",
    "param_maps_to_use = [\n",
    "        'Par0003.bs-R8-fg_bspline_SP_a 10000.txt'\n",
    "]\n",
    "experiment_results[experiment_name] = \\\n",
    "    registration(dataset,param_maps_to_use,experiment_name)\n",
    "with open(results_path, 'w') as json_file:\n",
    "    json.dump(experiment_results, json_file, indent=4, separators=(',', ': '))"
   ]
  },
  {
   "cell_type": "code",
   "execution_count": 48,
   "metadata": {},
   "outputs": [
    {
     "data": {
      "application/vnd.jupyter.widget-view+json": {
       "model_id": "24e65fb9a163404b8c870c7b0260ad26",
       "version_major": 2,
       "version_minor": 0
      },
      "text/plain": [
       "  0%|          | 0/4 [00:00<?, ?it/s]"
      ]
     },
     "metadata": {},
     "output_type": "display_data"
    },
    {
     "name": "stdout",
     "output_type": "stream",
     "text": [
      "Registration of image...\n",
      "Transforming points...\n",
      "---------- copd1 ----------\n",
      "Provided displacement: 25.9 | 11.57 \n",
      "Computed displacement: 1.3 | 1.28\n",
      "Registration of image...\n",
      "Transforming points...\n",
      "---------- copd2 ----------\n",
      "Provided displacement: 21.77 | 6.46 \n",
      "Computed displacement: 2.89 | 4.03\n",
      "Registration of image...\n",
      "Transforming points...\n",
      "---------- copd3 ----------\n",
      "Provided displacement: 12.29 | 6.39 \n",
      "Computed displacement: 1.13 | 0.98\n",
      "Registration of image...\n",
      "Transforming points...\n",
      "---------- copd4 ----------\n",
      "Provided displacement: 30.9 | 13.49 \n",
      "Computed displacement: 1.48 | 1.16\n"
     ]
    }
   ],
   "source": [
    "experiment_name = 'Par0003.bs-R8-fg_bspline_SP_A 50'\n",
    "param_maps_to_use = [\n",
    "        'Par0003.bs-R8-fg_bspline_SP_A 50.txt'\n",
    "]\n",
    "experiment_results[experiment_name] = \\\n",
    "    registration(dataset,param_maps_to_use,experiment_name,masks=True)\n",
    "with open(results_path, 'w') as json_file:\n",
    "    json.dump(experiment_results, json_file, indent=4, separators=(',', ': '))"
   ]
  },
  {
   "cell_type": "code",
   "execution_count": 49,
   "metadata": {},
   "outputs": [
    {
     "data": {
      "application/vnd.jupyter.widget-view+json": {
       "model_id": "648efa99af9646af87ba7c8d10b5a10f",
       "version_major": 2,
       "version_minor": 0
      },
      "text/plain": [
       "  0%|          | 0/4 [00:00<?, ?it/s]"
      ]
     },
     "metadata": {},
     "output_type": "display_data"
    },
    {
     "name": "stdout",
     "output_type": "stream",
     "text": [
      "Registration of image...\n",
      "Transforming points...\n",
      "---------- copd1 ----------\n",
      "Provided displacement: 25.9 | 11.57 \n",
      "Computed displacement: 1.25 | 1.24\n",
      "Registration of image...\n",
      "Transforming points...\n",
      "---------- copd2 ----------\n",
      "Provided displacement: 21.77 | 6.46 \n",
      "Computed displacement: 2.73 | 4.12\n",
      "Registration of image...\n",
      "Transforming points...\n",
      "---------- copd3 ----------\n",
      "Provided displacement: 12.29 | 6.39 \n",
      "Computed displacement: 1.12 | 0.95\n",
      "Registration of image...\n",
      "Transforming points...\n",
      "---------- copd4 ----------\n",
      "Provided displacement: 30.9 | 13.49 \n",
      "Computed displacement: 1.4 | 1.12\n"
     ]
    }
   ],
   "source": [
    "experiment_name = 'Par0003.bs-R8-fg_bspline_MAXITER_3000'\n",
    "param_maps_to_use = [\n",
    "        'Par0003.bs-R8-fg_bspline_MAXITER_3000.txt'\n",
    "]\n",
    "experiment_results[experiment_name] = \\\n",
    "    registration(dataset,param_maps_to_use,experiment_name,masks=True)\n",
    "with open(results_path, 'w') as json_file:\n",
    "    json.dump(experiment_results, json_file, indent=4, separators=(',', ': '))"
   ]
  },
  {
   "cell_type": "code",
   "execution_count": 50,
   "metadata": {},
   "outputs": [
    {
     "data": {
      "application/vnd.jupyter.widget-view+json": {
       "model_id": "71eb88b0662a49d8b5c4e190671ff928",
       "version_major": 2,
       "version_minor": 0
      },
      "text/plain": [
       "  0%|          | 0/4 [00:00<?, ?it/s]"
      ]
     },
     "metadata": {},
     "output_type": "display_data"
    },
    {
     "name": "stdout",
     "output_type": "stream",
     "text": [
      "Registration of image...\n",
      "Transforming points...\n",
      "---------- copd1 ----------\n",
      "Provided displacement: 25.9 | 11.57 \n",
      "Computed displacement: 1.32 | 1.44\n",
      "Registration of image...\n",
      "Transforming points...\n",
      "---------- copd2 ----------\n",
      "Provided displacement: 21.77 | 6.46 \n",
      "Computed displacement: 2.86 | 4.04\n",
      "Registration of image...\n",
      "Transforming points...\n",
      "---------- copd3 ----------\n",
      "Provided displacement: 12.29 | 6.39 \n",
      "Computed displacement: 1.15 | 0.99\n",
      "Registration of image...\n",
      "Transforming points...\n",
      "---------- copd4 ----------\n",
      "Provided displacement: 30.9 | 13.49 \n",
      "Computed displacement: 1.46 | 1.12\n"
     ]
    }
   ],
   "source": [
    "experiment_name = 'Par0003.bs-R8-fg_BSPLINE_12UNITS'\n",
    "param_maps_to_use = [\n",
    "        'Par0003.bs-R8-fg_BSPLINE_12UNITS.txt'\n",
    "]\n",
    "experiment_results[experiment_name] = \\\n",
    "    registration(dataset,param_maps_to_use,experiment_name,masks=True)\n",
    "with open(results_path, 'w') as json_file:\n",
    "    json.dump(experiment_results, json_file, indent=4, separators=(',', ': '))"
   ]
  },
  {
   "cell_type": "code",
   "execution_count": 51,
   "metadata": {},
   "outputs": [
    {
     "data": {
      "application/vnd.jupyter.widget-view+json": {
       "model_id": "b20fb51018914cdea89401d924ba6741",
       "version_major": 2,
       "version_minor": 0
      },
      "text/plain": [
       "  0%|          | 0/4 [00:00<?, ?it/s]"
      ]
     },
     "metadata": {},
     "output_type": "display_data"
    },
    {
     "name": "stdout",
     "output_type": "stream",
     "text": [
      "Registration of image...\n",
      "Transforming points...\n",
      "---------- copd1 ----------\n",
      "Provided displacement: 25.9 | 11.57 \n",
      "Computed displacement: 1.32 | 1.44\n",
      "Registration of image...\n",
      "Transforming points...\n",
      "---------- copd2 ----------\n",
      "Provided displacement: 21.77 | 6.46 \n",
      "Computed displacement: 2.86 | 4.04\n",
      "Registration of image...\n",
      "Transforming points...\n",
      "---------- copd3 ----------\n",
      "Provided displacement: 12.29 | 6.39 \n",
      "Computed displacement: 1.15 | 0.99\n",
      "Registration of image...\n",
      "Transforming points...\n",
      "---------- copd4 ----------\n",
      "Provided displacement: 30.9 | 13.49 \n",
      "Computed displacement: 1.46 | 1.12\n"
     ]
    }
   ],
   "source": [
    "experiment_name = 'Par0003.bs-R8-fg_affine'\n",
    "param_maps_to_use = [\n",
    "        'Par0003.bs-R8-fg_affine.txt'\n",
    "]\n",
    "experiment_results[experiment_name] = \\\n",
    "    registration(dataset,param_maps_to_use,experiment_name,masks=True)\n",
    "with open(results_path, 'w') as json_file:\n",
    "    json.dump(experiment_results, json_file, indent=4, separators=(',', ': '))"
   ]
  },
  {
   "cell_type": "code",
   "execution_count": 52,
   "metadata": {},
   "outputs": [
    {
     "data": {
      "application/vnd.jupyter.widget-view+json": {
       "model_id": "48b4723d2eaa456490d031ff17e81279",
       "version_major": 2,
       "version_minor": 0
      },
      "text/plain": [
       "  0%|          | 0/4 [00:00<?, ?it/s]"
      ]
     },
     "metadata": {},
     "output_type": "display_data"
    },
    {
     "name": "stdout",
     "output_type": "stream",
     "text": [
      "Registration of image...\n",
      "Transforming points...\n",
      "---------- copd1 ----------\n",
      "Provided displacement: 25.9 | 11.57 \n",
      "Computed displacement: 1.3 | 1.28\n",
      "Registration of image...\n",
      "Transforming points...\n",
      "---------- copd2 ----------\n",
      "Provided displacement: 21.77 | 6.46 \n",
      "Computed displacement: 2.79 | 4.04\n",
      "Registration of image...\n",
      "Transforming points...\n",
      "---------- copd3 ----------\n",
      "Provided displacement: 12.29 | 6.39 \n",
      "Computed displacement: 1.13 | 0.95\n",
      "Registration of image...\n",
      "Transforming points...\n",
      "---------- copd4 ----------\n",
      "Provided displacement: 30.9 | 13.49 \n",
      "Computed displacement: 1.5 | 1.17\n"
     ]
    }
   ],
   "source": [
    "experiment_name = 'Par0003.bs-6R_modified'\n",
    "param_maps_to_use = [\n",
    "        'Par0003.bs-6R_modified.txt'\n",
    "]\n",
    "experiment_results[experiment_name] = \\\n",
    "    registration(dataset,param_maps_to_use,experiment_name,masks=True)\n",
    "with open(results_path, 'w') as json_file:\n",
    "    json.dump(experiment_results, json_file, indent=4, separators=(',', ': '))"
   ]
  },
  {
   "cell_type": "code",
   "execution_count": 53,
   "metadata": {},
   "outputs": [
    {
     "data": {
      "application/vnd.jupyter.widget-view+json": {
       "model_id": "e4dbea3a78b54056a206572429e2636d",
       "version_major": 2,
       "version_minor": 0
      },
      "text/plain": [
       "  0%|          | 0/4 [00:00<?, ?it/s]"
      ]
     },
     "metadata": {},
     "output_type": "display_data"
    },
    {
     "name": "stdout",
     "output_type": "stream",
     "text": [
      "Registration of image...\n",
      "Transforming points...\n",
      "---------- copd1 ----------\n",
      "Provided displacement: 25.9 | 11.57 \n",
      "Computed displacement: 9.31 | 5.39\n",
      "Registration of image...\n",
      "Transforming points...\n",
      "---------- copd2 ----------\n",
      "Provided displacement: 21.77 | 6.46 \n",
      "Computed displacement: 11.34 | 6.3\n",
      "Registration of image...\n",
      "Transforming points...\n",
      "---------- copd3 ----------\n",
      "Provided displacement: 12.29 | 6.39 \n",
      "Computed displacement: 3.4 | 1.65\n",
      "Registration of image...\n",
      "Transforming points...\n",
      "---------- copd4 ----------\n",
      "Provided displacement: 30.9 | 13.49 \n",
      "Computed displacement: 7.56 | 5.02\n"
     ]
    }
   ],
   "source": [
    "experiment_name = 'Par0003.affine'\n",
    "param_maps_to_use = [\n",
    "        'Par0003.affine.txt'\n",
    "]\n",
    "experiment_results[experiment_name] = \\\n",
    "    registration(dataset,param_maps_to_use,experiment_name,masks=True)\n",
    "with open(results_path, 'w') as json_file:\n",
    "    json.dump(experiment_results, json_file, indent=4, separators=(',', ': '))"
   ]
  },
  {
   "cell_type": "code",
   "execution_count": 57,
   "metadata": {},
   "outputs": [
    {
     "data": {
      "application/vnd.jupyter.widget-view+json": {
       "model_id": "79a7406cb4e7469c8141bd89aa282a16",
       "version_major": 2,
       "version_minor": 0
      },
      "text/plain": [
       "  0%|          | 0/4 [00:00<?, ?it/s]"
      ]
     },
     "metadata": {},
     "output_type": "display_data"
    },
    {
     "name": "stdout",
     "output_type": "stream",
     "text": [
      "Registration of image...\n",
      "Transforming points...\n",
      "---------- copd1 ----------\n",
      "Provided displacement: 25.9 | 11.57 \n",
      "Computed displacement: 1.32 | 1.44\n",
      "Registration of image...\n",
      "Transforming points...\n",
      "---------- copd2 ----------\n",
      "Provided displacement: 21.77 | 6.46 \n",
      "Computed displacement: 2.86 | 4.04\n",
      "Registration of image...\n",
      "Transforming points...\n",
      "---------- copd3 ----------\n",
      "Provided displacement: 12.29 | 6.39 \n",
      "Computed displacement: 1.15 | 0.99\n",
      "Registration of image...\n",
      "Transforming points...\n",
      "---------- copd4 ----------\n",
      "Provided displacement: 30.9 | 13.49 \n",
      "Computed displacement: 1.46 | 1.12\n"
     ]
    }
   ],
   "source": [
    "experiment_name = 'best_untilnow'\n",
    "param_maps_to_use = [\n",
    "        'best_untilnow.txt'\n",
    "]\n",
    "experiment_results[experiment_name] = \\\n",
    "    registration(dataset,param_maps_to_use,experiment_name,masks=True)\n",
    "with open(results_path, 'w') as json_file:\n",
    "    json.dump(experiment_results, json_file, indent=4, separators=(',', ': '))"
   ]
  }
 ],
 "metadata": {
  "kernelspec": {
   "display_name": "base",
   "language": "python",
   "name": "python3"
  },
  "language_info": {
   "codemirror_mode": {
    "name": "ipython",
    "version": 3
   },
   "file_extension": ".py",
   "mimetype": "text/x-python",
   "name": "python",
   "nbconvert_exporter": "python",
   "pygments_lexer": "ipython3",
   "version": "3.10.12"
  }
 },
 "nbformat": 4,
 "nbformat_minor": 2
}
