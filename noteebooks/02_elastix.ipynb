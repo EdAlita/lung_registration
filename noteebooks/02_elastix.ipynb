{
 "cells": [
  {
   "cell_type": "code",
   "execution_count": 1,
   "metadata": {},
   "outputs": [],
   "source": [
    "from pathlib import Path\n",
    "thispath = Path('__file__').resolve()\n",
    "base_path = thispath.parent.parent\n",
    "import sys; sys.path.insert(0, str(base_path))\n",
    "import json\n",
    "sys.path.append('../utils/')\n",
    "import time"
   ]
  },
  {
   "cell_type": "code",
   "execution_count": 2,
   "metadata": {},
   "outputs": [],
   "source": [
    "import SimpleITK as sitk\n",
    "import pandas as pd\n",
    "from tqdm.auto import tqdm\n",
    "import time\n",
    "import numpy as np\n",
    "from metrics import get_landmarks_array_from_txt_file, target_registration_error\n",
    "from elastic_helpers import elastix_wrapper, modify_field_parameter_map,transformix_wrapper"
   ]
  },
  {
   "cell_type": "code",
   "execution_count": 3,
   "metadata": {},
   "outputs": [],
   "source": [
    "base_path = Path().resolve().parent\n",
    "params_path = base_path / 'parameters'\n",
    "output_path = base_path /'elastix'\n",
    "results_path = base_path / 'experiments' / 'elastik' / 'results.json'\n"
   ]
  },
  {
   "cell_type": "code",
   "execution_count": 4,
   "metadata": {},
   "outputs": [],
   "source": [
    "dataset = pd.read_csv('../result_data/dir_lab_copd.csv')"
   ]
  },
  {
   "cell_type": "code",
   "execution_count": 5,
   "metadata": {},
   "outputs": [],
   "source": [
    "def registration(dataset,param_maps_to_use,experiment_name,masks=False):\n",
    "    results = {}\n",
    "\n",
    "    for i in tqdm(range(len(dataset))):\n",
    "        sample = dataset.iloc[i]\n",
    "        sample_data = sample['case']\n",
    "        sample_mean = sample['disp_mean']\n",
    "        sample_std = sample['disp_std']\n",
    "\n",
    "        pm = param_maps_to_use[-1]\n",
    "        data_path = base_path / 'result_data' / sample_data\n",
    "        output_pm_path = output_path / pm.rstrip('.txt') / experiment_name\n",
    "        output_pm_path.mkdir(exist_ok=True, parents=True)\n",
    "\n",
    "        parameters_filename = params_path\n",
    "        result_path = output_path / sample['case'] / experiment_name\n",
    "        result_path.mkdir(exist_ok=True, parents=True)\n",
    "        \n",
    "        param_maps_to_use_ = [str(params_path / p) for p in param_maps_to_use]\n",
    "        name = sample['case']\n",
    "        i_temp_path = data_path / f'{sample_data}_iBHCT.nii.gz'\n",
    "        e_temp_path = data_path / f'{sample_data}_eBHCT.nii.gz'\n",
    "        i_lungs_mask_temp_path = data_path / f'{sample_data}_iBHCT_masks.nii.gz'\n",
    "        e_lungs_mask_temp_path = data_path / f'{sample_data}_eBHCT_masks.nii.gz'\n",
    "        \n",
    "        print('Registration of image...')\n",
    "        start = time.time()\n",
    "        \n",
    "        if mask is False:\n",
    "            transform_map_path = elastix_wrapper(\n",
    "                i_temp_path, e_temp_path, res_path.parent, param_maps_to_use_,\n",
    "                verbose=False, keep_just_useful_files=False\n",
    "            )\n",
    "        else:\n",
    "            transform_map_path = elastix_wrapper(\n",
    "                i_temp_path, e_temp_path, res_path.parent, param_maps_to_use_,\n",
    "                i_lungs_mask_temp_path, e_lungs_mask_temp_path, verbose=False,\n",
    "                keep_just_useful_files=False\n",
    "            )\n",
    "        \n",
    "        \n",
    "        reg_time = time.time() - start\n",
    "        name = f'{sample_data}_300_iBH_xyz_r1.txt'\n",
    "        lm_points_filepath = data_path / name\n",
    "        \n",
    "        field_value_pairs = [\n",
    "            ('ResultImageFormat', 'nii.gz'),\n",
    "            ('ResultImagePixelType', \"float\"),\n",
    "            ('FinalBSplineInterpolationorder', '0')\n",
    "        ]\n",
    "\n",
    "        modify_field_parameter_map(field_value_pairs, transform_map_path)\n",
    "        \n",
    "        # Transform landmarks\n",
    "        print('Transforming points...')\n",
    "        lm_out_filepath = result_path.parent / f'r_{sample_data}'\n",
    "        transformix_wrapper(\n",
    "            lm_points_filepath, lm_out_filepath, transform_map_path,\n",
    "            points=True)\n",
    "                \n",
    "        landmarks = get_landmarks_array_from_txt_file(lm_out_filepath / name)\n",
    "        e_landmark_pts = pd.read_csv(sample['e_landmark_pts'], header=None, index_col=None).values\n",
    "        m, s = target_registration_error(landmarks, e_landmark_pts, [sample['space_x'],sample['space_y'],sample['space_z']])\n",
    "        print(f'{\"-\"*10} {sample_data} {\"-\"*10}')\n",
    "        print(f'Provided displacement: {sample_mean} | {sample_std} ')\n",
    "        print(f'Computed displacement: {m} | {s}')\n",
    "        \n",
    "        results[sample['case']] = {\n",
    "            'mean_tre': m,\n",
    "            'std_tre': s,\n",
    "            'time': reg_time,\n",
    "            'maks_on' : masks\n",
    "        }\n",
    "    \n",
    "    return results"
   ]
  },
  {
   "cell_type": "markdown",
   "metadata": {},
   "source": [
    "## Experiments without a mask"
   ]
  },
  {
   "cell_type": "code",
   "execution_count": 6,
   "metadata": {},
   "outputs": [],
   "source": [
    "experiment_results = {}\n",
    "experiment_name = 'Baseline'\n",
    "param_maps_to_use = [\n",
    "        'Par0054_sstvd.txt'\n",
    "]"
   ]
  },
  {
   "cell_type": "code",
   "execution_count": 7,
   "metadata": {},
   "outputs": [
    {
     "data": {
      "application/vnd.jupyter.widget-view+json": {
       "model_id": "e1a0845b5deb44a6ac6777aa305c7266",
       "version_major": 2,
       "version_minor": 0
      },
      "text/plain": [
       "  0%|          | 0/4 [00:00<?, ?it/s]"
      ]
     },
     "metadata": {},
     "output_type": "display_data"
    },
    {
     "name": "stdout",
     "output_type": "stream",
     "text": [
      "Registration of image...\n",
      "Transforming points...\n",
      "---------- copd1 ----------\n",
      "Provided displacement: 25.9 | 11.57 \n",
      "Computed displacement: 21.03 | 10.12\n",
      "Registration of image...\n",
      "Transforming points...\n",
      "---------- copd2 ----------\n",
      "Provided displacement: 21.77 | 6.46 \n",
      "Computed displacement: 18.76 | 6.0\n",
      "Registration of image...\n",
      "Transforming points...\n",
      "---------- copd3 ----------\n",
      "Provided displacement: 12.29 | 6.39 \n",
      "Computed displacement: 7.59 | 4.84\n",
      "Registration of image...\n",
      "Transforming points...\n",
      "---------- copd4 ----------\n",
      "Provided displacement: 30.9 | 13.49 \n",
      "Computed displacement: 24.55 | 9.36\n"
     ]
    }
   ],
   "source": [
    "experiment_results[experiment_name] = \\\n",
    "    registration(dataset,param_maps_to_use,experiment_name)\n",
    "with open(results_path, 'w') as json_file:\n",
    "    json.dump(experiment_results, json_file, indent=4, separators=(',', ': '))"
   ]
  },
  {
   "cell_type": "code",
   "execution_count": 8,
   "metadata": {},
   "outputs": [],
   "source": [
    "experiment_name = 'Par0008_affine'\n",
    "param_maps_to_use = [\n",
    "        'Parameters.Par0008.affine.txt'\n",
    "]"
   ]
  },
  {
   "cell_type": "code",
   "execution_count": 9,
   "metadata": {},
   "outputs": [
    {
     "data": {
      "application/vnd.jupyter.widget-view+json": {
       "model_id": "f6402ff657bf464c80168d22d4447a6f",
       "version_major": 2,
       "version_minor": 0
      },
      "text/plain": [
       "  0%|          | 0/4 [00:00<?, ?it/s]"
      ]
     },
     "metadata": {},
     "output_type": "display_data"
    },
    {
     "name": "stdout",
     "output_type": "stream",
     "text": [
      "Registration of image...\n",
      "Transforming points...\n",
      "---------- copd1 ----------\n",
      "Provided displacement: 25.9 | 11.57 \n",
      "Computed displacement: 25.9 | 10.99\n",
      "Registration of image...\n",
      "Transforming points...\n",
      "---------- copd2 ----------\n",
      "Provided displacement: 21.77 | 6.46 \n",
      "Computed displacement: 23.86 | 5.18\n",
      "Registration of image...\n",
      "Transforming points...\n",
      "---------- copd3 ----------\n",
      "Provided displacement: 12.29 | 6.39 \n",
      "Computed displacement: 6.04 | 3.49\n",
      "Registration of image...\n",
      "Transforming points...\n",
      "---------- copd4 ----------\n",
      "Provided displacement: 30.9 | 13.49 \n",
      "Computed displacement: 21.61 | 9.59\n"
     ]
    }
   ],
   "source": [
    "experiment_results[experiment_name] = \\\n",
    "    registration(dataset,param_maps_to_use,experiment_name)\n",
    "with open(results_path, 'w') as json_file:\n",
    "    json.dump(experiment_results, json_file, indent=4, separators=(',', ': '))"
   ]
  },
  {
   "cell_type": "code",
   "execution_count": 10,
   "metadata": {},
   "outputs": [],
   "source": [
    "experiment_name = 'Par0003_affine'\n",
    "param_maps_to_use = [\n",
    "        'Par0003.affine.txt'\n",
    "]"
   ]
  },
  {
   "cell_type": "code",
   "execution_count": 11,
   "metadata": {},
   "outputs": [
    {
     "data": {
      "application/vnd.jupyter.widget-view+json": {
       "model_id": "f521586274fc4b3aad79d912fbc0d00b",
       "version_major": 2,
       "version_minor": 0
      },
      "text/plain": [
       "  0%|          | 0/4 [00:00<?, ?it/s]"
      ]
     },
     "metadata": {},
     "output_type": "display_data"
    },
    {
     "name": "stdout",
     "output_type": "stream",
     "text": [
      "Registration of image...\n",
      "Transforming points...\n",
      "---------- copd1 ----------\n",
      "Provided displacement: 25.9 | 11.57 \n",
      "Computed displacement: 25.91 | 10.99\n",
      "Registration of image...\n",
      "Transforming points...\n",
      "---------- copd2 ----------\n",
      "Provided displacement: 21.77 | 6.46 \n",
      "Computed displacement: 24.61 | 5.38\n",
      "Registration of image...\n",
      "Transforming points...\n",
      "---------- copd3 ----------\n",
      "Provided displacement: 12.29 | 6.39 \n",
      "Computed displacement: 5.9 | 3.33\n",
      "Registration of image...\n",
      "Transforming points...\n",
      "---------- copd4 ----------\n",
      "Provided displacement: 30.9 | 13.49 \n",
      "Computed displacement: 21.62 | 9.58\n"
     ]
    }
   ],
   "source": [
    "experiment_results[experiment_name] = \\\n",
    "    registration(dataset,param_maps_to_use,experiment_name)\n",
    "with open(results_path, 'w') as json_file:\n",
    "    json.dump(experiment_results, json_file, indent=4, separators=(',', ': '))"
   ]
  },
  {
   "cell_type": "code",
   "execution_count": 14,
   "metadata": {},
   "outputs": [],
   "source": [
    "experiment_name = 'MI.Coarse.Bspline_tuned'\n",
    "param_maps_to_use = [\n",
    "        'MI.Coarse.Bspline_tuned.txt'\n",
    "]"
   ]
  },
  {
   "cell_type": "code",
   "execution_count": 15,
   "metadata": {},
   "outputs": [
    {
     "data": {
      "application/vnd.jupyter.widget-view+json": {
       "model_id": "199884b7549b42379ba68347e99ee37c",
       "version_major": 2,
       "version_minor": 0
      },
      "text/plain": [
       "  0%|          | 0/4 [00:00<?, ?it/s]"
      ]
     },
     "metadata": {},
     "output_type": "display_data"
    },
    {
     "name": "stdout",
     "output_type": "stream",
     "text": [
      "Registration of image...\n",
      "Transforming points...\n",
      "---------- copd1 ----------\n",
      "Provided displacement: 25.9 | 11.57 \n",
      "Computed displacement: 8.8 | 4.81\n",
      "Registration of image...\n",
      "Transforming points...\n",
      "---------- copd2 ----------\n",
      "Provided displacement: 21.77 | 6.46 \n",
      "Computed displacement: 13.15 | 6.29\n",
      "Registration of image...\n",
      "Transforming points...\n",
      "---------- copd3 ----------\n",
      "Provided displacement: 12.29 | 6.39 \n",
      "Computed displacement: 4.91 | 2.97\n",
      "Registration of image...\n",
      "Transforming points...\n",
      "---------- copd4 ----------\n",
      "Provided displacement: 30.9 | 13.49 \n",
      "Computed displacement: 9.86 | 4.04\n"
     ]
    }
   ],
   "source": [
    "experiment_results[experiment_name] = \\\n",
    "    registration(dataset,param_maps_to_use,experiment_name)\n",
    "with open(results_path, 'w') as json_file:\n",
    "    json.dump(experiment_results, json_file, indent=4, separators=(',', ': '))"
   ]
  },
  {
   "cell_type": "code",
   "execution_count": 16,
   "metadata": {},
   "outputs": [],
   "source": [
    "experiment_name = 'MI.Fine.Bspline_tuned'\n",
    "param_maps_to_use = [\n",
    "        'MI.Fine.Bspline_tuned.txt'\n",
    "]"
   ]
  },
  {
   "cell_type": "code",
   "execution_count": 17,
   "metadata": {},
   "outputs": [
    {
     "data": {
      "application/vnd.jupyter.widget-view+json": {
       "model_id": "913257e3d28b469bac2281d67afdebe3",
       "version_major": 2,
       "version_minor": 0
      },
      "text/plain": [
       "  0%|          | 0/4 [00:00<?, ?it/s]"
      ]
     },
     "metadata": {},
     "output_type": "display_data"
    },
    {
     "name": "stdout",
     "output_type": "stream",
     "text": [
      "Registration of image...\n",
      "Transforming points...\n",
      "---------- copd1 ----------\n",
      "Provided displacement: 25.9 | 11.57 \n",
      "Computed displacement: 26.33 | 11.42\n",
      "Registration of image...\n",
      "Transforming points...\n",
      "---------- copd2 ----------\n",
      "Provided displacement: 21.77 | 6.46 \n",
      "Computed displacement: 21.79 | 6.46\n",
      "Registration of image...\n",
      "Transforming points...\n",
      "---------- copd3 ----------\n",
      "Provided displacement: 12.29 | 6.39 \n",
      "Computed displacement: 12.64 | 6.38\n",
      "Registration of image...\n",
      "Transforming points...\n",
      "---------- copd4 ----------\n",
      "Provided displacement: 30.9 | 13.49 \n",
      "Computed displacement: 29.58 | 12.92\n"
     ]
    }
   ],
   "source": [
    "experiment_results[experiment_name] = \\\n",
    "    registration(dataset,param_maps_to_use,experiment_name)\n",
    "with open(results_path, 'w') as json_file:\n",
    "    json.dump(experiment_results, json_file, indent=4, separators=(',', ': '))"
   ]
  },
  {
   "cell_type": "code",
   "execution_count": 18,
   "metadata": {},
   "outputs": [],
   "source": [
    "experiment_name = 'MI.RP.Bspline_tuned'\n",
    "param_maps_to_use = [\n",
    "        'MI.RP.Bspline_tuned.txt'\n",
    "]"
   ]
  },
  {
   "cell_type": "code",
   "execution_count": 19,
   "metadata": {},
   "outputs": [
    {
     "data": {
      "application/vnd.jupyter.widget-view+json": {
       "model_id": "703a1d292d1541f382e58a00aad04281",
       "version_major": 2,
       "version_minor": 0
      },
      "text/plain": [
       "  0%|          | 0/4 [00:00<?, ?it/s]"
      ]
     },
     "metadata": {},
     "output_type": "display_data"
    },
    {
     "name": "stdout",
     "output_type": "stream",
     "text": [
      "Registration of image...\n",
      "Transforming points...\n",
      "---------- copd1 ----------\n",
      "Provided displacement: 25.9 | 11.57 \n",
      "Computed displacement: 8.84 | 5.33\n",
      "Registration of image...\n",
      "Transforming points...\n",
      "---------- copd2 ----------\n",
      "Provided displacement: 21.77 | 6.46 \n",
      "Computed displacement: 16.06 | 7.61\n",
      "Registration of image...\n",
      "Transforming points...\n",
      "---------- copd3 ----------\n",
      "Provided displacement: 12.29 | 6.39 \n",
      "Computed displacement: 5.3 | 2.95\n",
      "Registration of image...\n",
      "Transforming points...\n",
      "---------- copd4 ----------\n",
      "Provided displacement: 30.9 | 13.49 \n",
      "Computed displacement: 9.66 | 3.74\n"
     ]
    }
   ],
   "source": [
    "experiment_results[experiment_name] = \\\n",
    "    registration(dataset,param_maps_to_use,experiment_name)\n",
    "with open(results_path, 'w') as json_file:\n",
    "    json.dump(experiment_results, json_file, indent=4, separators=(',', ': '))"
   ]
  },
  {
   "cell_type": "markdown",
   "metadata": {},
   "source": [
    "## Adding GT"
   ]
  },
  {
   "cell_type": "code",
   "execution_count": 21,
   "metadata": {},
   "outputs": [],
   "source": [
    "experiment_results['GT'] = {'copd1': {'mean_tre': 25.90, 'std_tre': 11.57, 'time': 0}, \n",
    "                            'copd2': {'mean_tre': 21.77, 'std_tre': 6.46 , 'time': 0}, \n",
    "                            'copd3': {'mean_tre': 12.29, 'std_tre': 6.39, 'time': 0}, \n",
    "                            'copd4': {'mean_tre': 30.90, 'std_tre': 13.49, 'time': 0}}"
   ]
  },
  {
   "cell_type": "code",
   "execution_count": 22,
   "metadata": {},
   "outputs": [],
   "source": [
    "with open(results_path, 'w') as json_file:\n",
    "    json.dump(experiment_results, json_file, indent=4, separators=(',', ': '))"
   ]
  }
 ],
 "metadata": {
  "kernelspec": {
   "display_name": "base",
   "language": "python",
   "name": "python3"
  },
  "language_info": {
   "codemirror_mode": {
    "name": "ipython",
    "version": 3
   },
   "file_extension": ".py",
   "mimetype": "text/x-python",
   "name": "python",
   "nbconvert_exporter": "python",
   "pygments_lexer": "ipython3",
   "version": "3.10.12"
  }
 },
 "nbformat": 4,
 "nbformat_minor": 2
}
